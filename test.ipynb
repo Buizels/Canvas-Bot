{
 "cells": [
  {
   "cell_type": "code",
   "execution_count": 1,
   "metadata": {},
   "outputs": [],
   "source": [
    "from secrets import API_TOKEN \n",
    "from secrets import LINK"
   ]
  },
  {
   "cell_type": "code",
   "execution_count": 2,
   "metadata": {},
   "outputs": [],
   "source": [
    "# Authentication\n",
    "# Import the Canvas class\n",
    "from canvasapi import Canvas\n",
    "\n",
    "# Canvas API URL\n",
    "API_URL = LINK\n",
    "# Canvas API key\n",
    "API_KEY = API_TOKEN\n",
    "\n",
    "# Initialize a new Canvas object\n",
    "canvas = Canvas(API_URL, API_KEY)"
   ]
  },
  {
   "cell_type": "code",
   "execution_count": 3,
   "metadata": {},
   "outputs": [],
   "source": [
    "course_id = \"23263\""
   ]
  },
  {
   "cell_type": "code",
   "execution_count": 4,
   "metadata": {},
   "outputs": [
    {
     "name": "stdout",
     "output_type": "stream",
     "text": [
      "S22-CSE 100 01\n"
     ]
    }
   ],
   "source": [
    "course = canvas.get_course(course_id)\n",
    "\n",
    "print(course.name)"
   ]
  },
  {
   "cell_type": "code",
   "execution_count": 5,
   "metadata": {},
   "outputs": [
    {
     "name": "stdout",
     "output_type": "stream",
     "text": [
      "Participation\n",
      "Roll Call Attendance\n",
      "Lab00\n",
      "Lab01\n",
      "Lab02\n",
      "Lab03\n",
      "Lab04-1\n",
      "Lab04-2\n",
      "Lab05\n",
      "Lab06\n",
      "Lab07\n",
      "Lab08\n",
      "Lab09\n",
      "Lab10\n",
      "Lab11\n",
      "Lab12\n",
      "Week 1 (01/16 - 01/22) Reading\n",
      "Week 2 (01/23 - 01/29) Reading\n",
      "Week 3 (01/30 - 02/05) Reading\n",
      "Week 4 (02/06 - 02/12) Reading\n",
      "Week 6 (02/20 - 02/26) Reading\n",
      "Week 7 (02/27 - 03/05) Reading\n",
      "Week 8 (03/06 - 03/12) Reading\n",
      "Week 11 (03/27 - 04/02) Reading\n",
      "Week 12 (04/03 - 04/09) Reading\n",
      "Week 13 (04/10 - 04/16) Reading\n",
      "Week 15 (04/24 - 04/30) Reading\n"
     ]
    }
   ],
   "source": [
    "assignments = course.get_assignments()\n",
    "for i in assignments:\n",
    "    print(i.name)\n",
    "\n",
    "temp = assignments[0]"
   ]
  },
  {
   "cell_type": "code",
   "execution_count": 6,
   "metadata": {},
   "outputs": [],
   "source": [
    "# import time\n",
    "\n",
    "# check = \" \"\n",
    "# announce = canvas.get_announcements([course_id])\n",
    "\n",
    "# while True:\n",
    "#     if announce[0] != check:\n",
    "#         print(\"New anouncement: \" + str(announce[0]))\n",
    "#         check = announce[0]\n",
    "#     else:\n",
    "#         print(\"No new anouncements\")\n",
    "#     # Wait for 5 seconds\n",
    "#     # time.sleep(30)"
   ]
  },
  {
   "cell_type": "code",
   "execution_count": 6,
   "metadata": {},
   "outputs": [
    {
     "name": "stdout",
     "output_type": "stream",
     "text": [
      "Participation\n",
      "Roll Call Attendance\n",
      "Lab00\n",
      "Due date: 2022-02-01T07:59:59Z\n",
      "Lab01\n",
      "Due date: 2022-02-01T07:59:59Z\n",
      "Lab02\n",
      "Due date: 2022-02-08T07:59:59Z\n",
      "Lab03\n",
      "Due date: 2022-02-15T07:59:59Z\n",
      "Lab04-1\n",
      "Due date: 2022-02-22T07:59:59Z\n",
      "Lab04-2\n",
      "Due date: 2022-02-22T07:59:59Z\n",
      "Lab05\n",
      "Due date: 2022-03-01T07:59:59Z\n",
      "Lab06\n",
      "Due date: 2022-03-08T07:59:59Z\n",
      "Lab07\n",
      "Due date: 2022-03-15T06:59:59Z\n",
      "Lab08\n",
      "Due date: 2022-03-29T06:59:59Z\n",
      "Lab09\n",
      "Due date: 2022-04-05T06:59:59Z\n",
      "Lab10\n",
      "Due date: 2022-04-12T06:59:59Z\n",
      "Lab11\n",
      "Due date: 2022-04-19T06:59:59Z\n",
      "Lab12\n",
      "Due date: 2022-04-26T06:59:59Z\n",
      "Week 1 (01/16 - 01/22) Reading\n",
      "Week 2 (01/23 - 01/29) Reading\n",
      "Week 3 (01/30 - 02/05) Reading\n",
      "Week 4 (02/06 - 02/12) Reading\n",
      "Week 6 (02/20 - 02/26) Reading\n",
      "Week 7 (02/27 - 03/05) Reading\n",
      "Week 8 (03/06 - 03/12) Reading\n",
      "Week 11 (03/27 - 04/02) Reading\n",
      "Week 12 (04/03 - 04/09) Reading\n",
      "Week 13 (04/10 - 04/16) Reading\n",
      "Week 15 (04/24 - 04/30) Reading\n"
     ]
    }
   ],
   "source": [
    "assignments = course.get_assignments()\n",
    "for i in assignments:\n",
    "    print(i.name)\n",
    "    if(i.due_at != None):\n",
    "        print(\"Due date: \" + str(i.due_at))"
   ]
  },
  {
   "cell_type": "code",
   "execution_count": 7,
   "metadata": {},
   "outputs": [
    {
     "name": "stdout",
     "output_type": "stream",
     "text": [
      "Participation\n",
      "Roll Call Attendance\n",
      "Lab00\n",
      "Due date: 2022-01-31 23:59:59-08:00\n",
      "Lab01\n",
      "Due date: 2022-01-31 23:59:59-08:00\n",
      "Lab02\n",
      "Due date: 2022-02-07 23:59:59-08:00\n",
      "Lab03\n",
      "Due date: 2022-02-14 23:59:59-08:00\n",
      "Lab04-1\n",
      "Due date: 2022-02-21 23:59:59-08:00\n",
      "Lab04-2\n",
      "Due date: 2022-02-21 23:59:59-08:00\n",
      "Lab05\n",
      "Due date: 2022-02-28 23:59:59-08:00\n",
      "Lab06\n",
      "Due date: 2022-03-07 23:59:59-08:00\n",
      "Lab07\n",
      "Due date: 2022-03-14 23:59:59-07:00\n",
      "Lab08\n",
      "Due date: 2022-03-28 23:59:59-07:00\n",
      "Lab09\n",
      "Due date: 2022-04-04 23:59:59-07:00\n",
      "Lab10\n",
      "Due date: 2022-04-11 23:59:59-07:00\n",
      "Lab11\n",
      "Due date: 2022-04-18 23:59:59-07:00\n",
      "Lab12\n",
      "Due date: 2022-04-25 23:59:59-07:00\n",
      "Week 1 (01/16 - 01/22) Reading\n",
      "Week 2 (01/23 - 01/29) Reading\n",
      "Week 3 (01/30 - 02/05) Reading\n",
      "Week 4 (02/06 - 02/12) Reading\n",
      "Week 6 (02/20 - 02/26) Reading\n",
      "Week 7 (02/27 - 03/05) Reading\n",
      "Week 8 (03/06 - 03/12) Reading\n",
      "Week 11 (03/27 - 04/02) Reading\n",
      "Week 12 (04/03 - 04/09) Reading\n",
      "Week 13 (04/10 - 04/16) Reading\n",
      "Week 15 (04/24 - 04/30) Reading\n"
     ]
    }
   ],
   "source": [
    "from dateutil import parser\n",
    "from pytz import timezone\n",
    "\n",
    "for i in assignments:\n",
    "    print(i.name)\n",
    "    if(i.due_at != None):\n",
    "        time = parser.parse(i.due_at)\n",
    "        time = time.astimezone(timezone('US/Pacific'))\n",
    "        print(\"Due date: \" + str(time))"
   ]
  },
  {
   "cell_type": "code",
   "execution_count": 9,
   "metadata": {},
   "outputs": [
    {
     "name": "stdout",
     "output_type": "stream",
     "text": [
      "Next assignment: Lab06\n"
     ]
    }
   ],
   "source": [
    "# Get current time and date\n",
    "from datetime import datetime\n",
    "current = datetime.now()\n",
    "current = current.astimezone(timezone('US/Pacific'))\n",
    "\n",
    "next_assign = assignments[0]\n",
    "for i in assignments:\n",
    "    if(i.due_at != None):\n",
    "        time = parser.parse(i.due_at)\n",
    "        time = time.astimezone(timezone('US/Pacific'))\n",
    "        if(time > current):\n",
    "            next_assign = i\n",
    "            break\n",
    "\n",
    "print(\"Next assignment: \" + str(next_assign.name))"
   ]
  },
  {
   "cell_type": "code",
   "execution_count": 13,
   "metadata": {},
   "outputs": [
    {
     "name": "stdout",
     "output_type": "stream",
     "text": [
      "Please see Opportunities, Events, Etceterafor a list of professional development opportunities. Our campus is also currently looking for a Student Advocate for CAHSI, An NSF INCLUDES ALLIANCE. If interested, please visit the posting in this discussion board to learn more about this position and apply (ideally by this weekend).\n"
     ]
    }
   ],
   "source": [
    "announce = canvas.get_announcements([course_id])\n",
    "\n",
    "mess = announce[0].message\n",
    "\n",
    "# print(mess)\n",
    "\n",
    "import re\n",
    "\n",
    "CLEANR = re.compile('<.*?>|&([a-z0-9]+|#[0-9]{1,6}|#x[0-9a-f]{1,6});')\n",
    "cleantext = re.sub(CLEANR, '', mess)\n",
    "\n",
    "print(cleantext)\n"
   ]
  }
 ],
 "metadata": {
  "interpreter": {
   "hash": "0cede72f777f2cb818dab0d0127d627eabb9a101d7ae82599d1c0ad28329a85e"
  },
  "kernelspec": {
   "display_name": "Python 3.9.10 64-bit (windows store)",
   "language": "python",
   "name": "python3"
  },
  "language_info": {
   "codemirror_mode": {
    "name": "ipython",
    "version": 3
   },
   "file_extension": ".py",
   "mimetype": "text/x-python",
   "name": "python",
   "nbconvert_exporter": "python",
   "pygments_lexer": "ipython3",
   "version": "3.9.10"
  },
  "orig_nbformat": 4
 },
 "nbformat": 4,
 "nbformat_minor": 2
}
