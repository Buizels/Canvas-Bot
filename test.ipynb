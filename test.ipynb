{
 "cells": [
  {
   "cell_type": "code",
   "execution_count": 71,
   "metadata": {},
   "outputs": [],
   "source": [
    "from secrets import API_TOKEN \n",
    "from secrets import LINK"
   ]
  },
  {
   "cell_type": "code",
   "execution_count": 72,
   "metadata": {},
   "outputs": [],
   "source": [
    "# Authentication\n",
    "# Import the Canvas class\n",
    "from canvasapi import Canvas\n",
    "\n",
    "# Canvas API URL\n",
    "API_URL = LINK\n",
    "# Canvas API key\n",
    "API_KEY = API_TOKEN\n",
    "\n",
    "# Initialize a new Canvas object\n",
    "canvas = Canvas(API_URL, API_KEY)"
   ]
  },
  {
   "cell_type": "code",
   "execution_count": 73,
   "metadata": {},
   "outputs": [],
   "source": [
    "course_id = \"23263\""
   ]
  },
  {
   "cell_type": "code",
   "execution_count": 74,
   "metadata": {},
   "outputs": [
    {
     "name": "stdout",
     "output_type": "stream",
     "text": [
      "S22-CSE 100 01\n"
     ]
    }
   ],
   "source": [
    "course = canvas.get_course(course_id)\n",
    "\n",
    "print(course.name)"
   ]
  },
  {
   "cell_type": "code",
   "execution_count": 75,
   "metadata": {},
   "outputs": [
    {
     "name": "stdout",
     "output_type": "stream",
     "text": [
      "Participation\n",
      "Roll Call Attendance\n",
      "Lab00\n",
      "Lab01\n",
      "Lab02\n",
      "Lab03\n",
      "Lab04-1\n",
      "Lab04-2\n",
      "Lab05\n",
      "Lab06\n",
      "Lab07\n",
      "Lab08\n",
      "Lab09\n",
      "Lab10\n",
      "Lab11\n",
      "Lab12\n",
      "Week 1 (01/16 - 01/22) Reading\n",
      "Week 2 (01/23 - 01/29) Reading\n",
      "Week 3 (01/30 - 02/05) Reading\n",
      "Week 4 (02/06 - 02/12) Reading\n",
      "Week 6 (02/20 - 02/26) Reading\n",
      "Week 7 (02/27 - 03/05) Reading\n",
      "Week 8 (03/06 - 03/12) Reading\n",
      "Week 11 (03/27 - 04/02) Reading\n",
      "Week 12 (04/03 - 04/09) Reading\n",
      "Week 13 (04/10 - 04/16) Reading\n",
      "Week 15 (04/24 - 04/30) Reading\n"
     ]
    }
   ],
   "source": [
    "assignments = course.get_assignments()\n",
    "for i in assignments:\n",
    "    print(i.name)\n",
    "\n",
    "temp = assignments[0]"
   ]
  },
  {
   "cell_type": "code",
   "execution_count": 76,
   "metadata": {},
   "outputs": [],
   "source": [
    "# import time\n",
    "\n",
    "# check = \" \"\n",
    "# announce = canvas.get_announcements([course_id])\n",
    "\n",
    "# while True:\n",
    "#     if announce[0] != check:\n",
    "#         print(\"New anouncement: \" + str(announce[0]))\n",
    "#         check = announce[0]\n",
    "#     else:\n",
    "#         print(\"No new anouncements\")\n",
    "#     # Wait for 5 seconds\n",
    "#     # time.sleep(30)"
   ]
  },
  {
   "cell_type": "code",
   "execution_count": 78,
   "metadata": {},
   "outputs": [
    {
     "name": "stdout",
     "output_type": "stream",
     "text": [
      "Participation\n",
      "Roll Call Attendance\n",
      "Lab00\n",
      "Due date: 2022-02-01T07:59:59Z\n",
      "Lab01\n",
      "Due date: 2022-02-01T07:59:59Z\n",
      "Lab02\n",
      "Due date: 2022-02-08T07:59:59Z\n",
      "Lab03\n",
      "Due date: 2022-02-15T07:59:59Z\n",
      "Lab04-1\n",
      "Due date: 2022-02-22T07:59:59Z\n",
      "Lab04-2\n",
      "Due date: 2022-02-22T07:59:59Z\n",
      "Lab05\n",
      "Due date: 2022-03-01T07:59:59Z\n",
      "Lab06\n",
      "Due date: 2022-03-08T07:59:59Z\n",
      "Lab07\n",
      "Due date: 2022-03-15T06:59:59Z\n",
      "Lab08\n",
      "Due date: 2022-03-29T06:59:59Z\n",
      "Lab09\n",
      "Due date: 2022-04-05T06:59:59Z\n",
      "Lab10\n",
      "Due date: 2022-04-12T06:59:59Z\n",
      "Lab11\n",
      "Due date: 2022-04-19T06:59:59Z\n",
      "Lab12\n",
      "Due date: 2022-04-26T06:59:59Z\n",
      "Week 1 (01/16 - 01/22) Reading\n",
      "Week 2 (01/23 - 01/29) Reading\n",
      "Week 3 (01/30 - 02/05) Reading\n",
      "Week 4 (02/06 - 02/12) Reading\n",
      "Week 6 (02/20 - 02/26) Reading\n",
      "Week 7 (02/27 - 03/05) Reading\n",
      "Week 8 (03/06 - 03/12) Reading\n",
      "Week 11 (03/27 - 04/02) Reading\n",
      "Week 12 (04/03 - 04/09) Reading\n",
      "Week 13 (04/10 - 04/16) Reading\n",
      "Week 15 (04/24 - 04/30) Reading\n"
     ]
    }
   ],
   "source": [
    "assignments = course.get_assignments()\n",
    "for i in assignments:\n",
    "    print(i.name)\n",
    "    if(i.due_at != None):\n",
    "        print(\"Due date: \" + str(i.due_at))"
   ]
  },
  {
   "cell_type": "code",
   "execution_count": 79,
   "metadata": {},
   "outputs": [
    {
     "name": "stdout",
     "output_type": "stream",
     "text": [
      "Participation\n",
      "Roll Call Attendance\n",
      "Lab00\n",
      "Due date: 2022-02-01 07:59:59+00:00\n",
      "Lab01\n",
      "Due date: 2022-02-01 07:59:59+00:00\n",
      "Lab02\n",
      "Due date: 2022-02-08 07:59:59+00:00\n",
      "Lab03\n",
      "Due date: 2022-02-15 07:59:59+00:00\n",
      "Lab04-1\n",
      "Due date: 2022-02-22 07:59:59+00:00\n",
      "Lab04-2\n",
      "Due date: 2022-02-22 07:59:59+00:00\n",
      "Lab05\n",
      "Due date: 2022-03-01 07:59:59+00:00\n",
      "Lab06\n",
      "Due date: 2022-03-08 07:59:59+00:00\n",
      "Lab07\n",
      "Due date: 2022-03-15 06:59:59+00:00\n",
      "Lab08\n",
      "Due date: 2022-03-29 06:59:59+00:00\n",
      "Lab09\n",
      "Due date: 2022-04-05 06:59:59+00:00\n",
      "Lab10\n",
      "Due date: 2022-04-12 06:59:59+00:00\n",
      "Lab11\n",
      "Due date: 2022-04-19 06:59:59+00:00\n",
      "Lab12\n",
      "Due date: 2022-04-26 06:59:59+00:00\n",
      "Week 1 (01/16 - 01/22) Reading\n",
      "Week 2 (01/23 - 01/29) Reading\n",
      "Week 3 (01/30 - 02/05) Reading\n",
      "Week 4 (02/06 - 02/12) Reading\n",
      "Week 6 (02/20 - 02/26) Reading\n",
      "Week 7 (02/27 - 03/05) Reading\n",
      "Week 8 (03/06 - 03/12) Reading\n",
      "Week 11 (03/27 - 04/02) Reading\n",
      "Week 12 (04/03 - 04/09) Reading\n",
      "Week 13 (04/10 - 04/16) Reading\n",
      "Week 15 (04/24 - 04/30) Reading\n"
     ]
    }
   ],
   "source": [
    "from dateutil import parser\n",
    "from pytz import timezone\n",
    "\n",
    "for i in assignments:\n",
    "    print(i.name)\n",
    "    if(i.due_at != None):\n",
    "        time = parser.parse(i.due_at)\n",
    "        print(\"Due date: \" + str(time))"
   ]
  }
 ],
 "metadata": {
  "interpreter": {
   "hash": "0cede72f777f2cb818dab0d0127d627eabb9a101d7ae82599d1c0ad28329a85e"
  },
  "kernelspec": {
   "display_name": "Python 3.9.10 64-bit (windows store)",
   "language": "python",
   "name": "python3"
  },
  "language_info": {
   "codemirror_mode": {
    "name": "ipython",
    "version": 3
   },
   "file_extension": ".py",
   "mimetype": "text/x-python",
   "name": "python",
   "nbconvert_exporter": "python",
   "pygments_lexer": "ipython3",
   "version": "3.9.10"
  },
  "orig_nbformat": 4
 },
 "nbformat": 4,
 "nbformat_minor": 2
}
