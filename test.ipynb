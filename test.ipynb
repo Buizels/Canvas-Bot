{
 "cells": [
  {
   "cell_type": "code",
   "execution_count": 1,
   "metadata": {},
   "outputs": [],
   "source": [
    "from secrets import API_TOKEN \n",
    "from secrets import LINK"
   ]
  },
  {
   "cell_type": "code",
   "execution_count": 3,
   "metadata": {},
   "outputs": [],
   "source": [
    "# Authentication\n",
    "# Import the Canvas class\n",
    "from canvasapi import Canvas\n",
    "\n",
    "# Canvas API URL\n",
    "API_URL = LINK\n",
    "# Canvas API key\n",
    "API_KEY = API_TOKEN\n",
    "\n",
    "# Initialize a new Canvas object\n",
    "canvas = Canvas(API_URL, API_KEY)"
   ]
  },
  {
   "cell_type": "code",
   "execution_count": 4,
   "metadata": {},
   "outputs": [
    {
     "name": "stdout",
     "output_type": "stream",
     "text": [
      "S22-CSE 100 01\n"
     ]
    }
   ],
   "source": [
    "course = canvas.get_course(23263)\n",
    "\n",
    "print(course.name)"
   ]
  },
  {
   "cell_type": "code",
   "execution_count": 11,
   "metadata": {},
   "outputs": [
    {
     "name": "stdout",
     "output_type": "stream",
     "text": [
      "Participation\n",
      "Roll Call Attendance\n",
      "Lab00\n",
      "Lab01\n",
      "Lab02\n",
      "Lab03\n",
      "Lab04-1\n",
      "Lab04-2\n",
      "Lab05\n",
      "Lab06\n",
      "Lab07\n",
      "Lab08\n",
      "Lab09\n",
      "Lab10\n",
      "Lab11\n",
      "Lab12\n",
      "Week 1 (01/16 - 01/22) Reading\n",
      "Week 2 (01/23 - 01/29) Reading\n",
      "Week 3 (01/30 - 02/05) Reading\n",
      "Week 4 (02/06 - 02/12) Reading\n",
      "Week 6 (02/20 - 02/26) Reading\n",
      "Week 7 (02/27 - 03/05) Reading\n",
      "Week 8 (03/06 - 03/12) Reading\n",
      "Week 11 (03/27 - 04/02) Reading\n",
      "Week 12 (04/03 - 04/09) Reading\n",
      "Week 13 (04/10 - 04/16) Reading\n",
      "Week 15 (04/24 - 04/30) Reading\n"
     ]
    }
   ],
   "source": [
    "assignments = course.get_assignments()\n",
    "for i in assignments:\n",
    "    print(i.name)\n",
    "\n",
    "temp = assignments[0]"
   ]
  },
  {
   "cell_type": "code",
   "execution_count": 16,
   "metadata": {},
   "outputs": [
    {
     "name": "stdout",
     "output_type": "stream",
     "text": [
      "20: Opportunities, Events, Etcetera\n",
      "19: Lab 05 and 06 Late Penalty Changes\n",
      "18: Lab04 Final Grades and Lab05 Initial Grades Posted\n",
      "17: Lab03 Final Grades and Lab04 Initial Grades Posted\n",
      "16: Additional Office Hours on 22-FEB\n",
      "15: Lab 04-1 and Lab04-2 Penalty Changes and Demo Requirements\n",
      "14: Solutions to Ch 02, 03, 04, 06 and 09 Discussions\n"
     ]
    }
   ],
   "source": [
    "announce = canvas.get_announcements([23263])\n",
    "for i in announce:\n",
    "    print(i.)"
   ]
  }
 ],
 "metadata": {
  "interpreter": {
   "hash": "0cede72f777f2cb818dab0d0127d627eabb9a101d7ae82599d1c0ad28329a85e"
  },
  "kernelspec": {
   "display_name": "Python 3.9.10 64-bit (windows store)",
   "language": "python",
   "name": "python3"
  },
  "language_info": {
   "codemirror_mode": {
    "name": "ipython",
    "version": 3
   },
   "file_extension": ".py",
   "mimetype": "text/x-python",
   "name": "python",
   "nbconvert_exporter": "python",
   "pygments_lexer": "ipython3",
   "version": "3.9.10"
  },
  "orig_nbformat": 4
 },
 "nbformat": 4,
 "nbformat_minor": 2
}
