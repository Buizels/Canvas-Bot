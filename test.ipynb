{
 "cells": [
  {
   "cell_type": "code",
   "execution_count": 49,
   "metadata": {},
   "outputs": [],
   "source": [
    "from secrets import API_TOKEN \n",
    "from secrets import LINK"
   ]
  },
  {
   "cell_type": "code",
   "execution_count": 50,
   "metadata": {},
   "outputs": [],
   "source": [
    "# Authentication\n",
    "# Import the Canvas class\n",
    "from canvasapi import Canvas\n",
    "\n",
    "# Canvas API URL\n",
    "API_URL = LINK\n",
    "# Canvas API key\n",
    "API_KEY = API_TOKEN\n",
    "\n",
    "# Initialize a new Canvas object\n",
    "canvas = Canvas(API_URL, API_KEY)"
   ]
  },
  {
   "cell_type": "code",
   "execution_count": 54,
   "metadata": {},
   "outputs": [
    {
     "name": "stdout",
     "output_type": "stream",
     "text": [
      "S22-CSE 100 01\n"
     ]
    }
   ],
   "source": [
    "course = canvas.get_course(23263)\n",
    "\n",
    "print(course.name)"
   ]
  },
  {
   "cell_type": "code",
   "execution_count": 52,
   "metadata": {},
   "outputs": [
    {
     "name": "stdout",
     "output_type": "stream",
     "text": [
      "Participation\n",
      "Roll Call Attendance\n",
      "Lab00\n",
      "Lab01\n",
      "Lab02\n",
      "Lab03\n",
      "Lab04-1\n",
      "Lab04-2\n",
      "Lab05\n",
      "Lab06\n",
      "Lab07\n",
      "Lab08\n",
      "Lab09\n",
      "Lab10\n",
      "Lab11\n",
      "Lab12\n",
      "Week 1 (01/16 - 01/22) Reading\n",
      "Week 2 (01/23 - 01/29) Reading\n",
      "Week 3 (01/30 - 02/05) Reading\n",
      "Week 4 (02/06 - 02/12) Reading\n",
      "Week 6 (02/20 - 02/26) Reading\n",
      "Week 7 (02/27 - 03/05) Reading\n",
      "Week 8 (03/06 - 03/12) Reading\n",
      "Week 11 (03/27 - 04/02) Reading\n",
      "Week 12 (04/03 - 04/09) Reading\n",
      "Week 13 (04/10 - 04/16) Reading\n",
      "Week 15 (04/24 - 04/30) Reading\n"
     ]
    }
   ],
   "source": [
    "assignments = course.get_assignments()\n",
    "for i in assignments:\n",
    "    print(i.name)\n",
    "\n",
    "temp = assignments[0]"
   ]
  },
  {
   "cell_type": "code",
   "execution_count": 53,
   "metadata": {},
   "outputs": [
    {
     "name": "stdout",
     "output_type": "stream",
     "text": [
      "New anouncement: 20: Opportunities, Events, Etcetera (270040)\n"
     ]
    },
    {
     "ename": "KeyboardInterrupt",
     "evalue": "",
     "output_type": "error",
     "traceback": [
      "\u001b[1;31m---------------------------------------------------------------------------\u001b[0m",
      "\u001b[1;31mKeyboardInterrupt\u001b[0m                         Traceback (most recent call last)",
      "\u001b[1;32mc:\\Users\\ajgra\\OneDrive\\Documents\\GitHub\\Canvas-Bot\\test.ipynb Cell 5'\u001b[0m in \u001b[0;36m<cell line: 7>\u001b[1;34m()\u001b[0m\n\u001b[0;32m     <a href='vscode-notebook-cell:/c%3A/Users/ajgra/OneDrive/Documents/GitHub/Canvas-Bot/test.ipynb#ch0000004?line=10'>11</a>\u001b[0m     \u001b[39mprint\u001b[39m(\u001b[39m\"\u001b[39m\u001b[39mNo new anouncements\u001b[39m\u001b[39m\"\u001b[39m)\n\u001b[0;32m     <a href='vscode-notebook-cell:/c%3A/Users/ajgra/OneDrive/Documents/GitHub/Canvas-Bot/test.ipynb#ch0000004?line=11'>12</a>\u001b[0m \u001b[39m# Wait for 5 seconds\u001b[39;00m\n\u001b[1;32m---> <a href='vscode-notebook-cell:/c%3A/Users/ajgra/OneDrive/Documents/GitHub/Canvas-Bot/test.ipynb#ch0000004?line=12'>13</a>\u001b[0m time\u001b[39m.\u001b[39;49msleep(\u001b[39m30\u001b[39;49m)\n",
      "\u001b[1;31mKeyboardInterrupt\u001b[0m: "
     ]
    }
   ],
   "source": [
    "import time\n",
    "\n",
    "check = \" \"\n",
    "announce = canvas.get_announcements([23263])\n",
    "\n",
    "while True:\n",
    "    if announce[0] != check:\n",
    "        print(\"New anouncement: \" + str(announce[0]))\n",
    "        check = announce[0]\n",
    "    else:\n",
    "        print(\"No new anouncements\")\n",
    "    # Wait for 5 seconds\n",
    "    time.sleep(30)"
   ]
  }
 ],
 "metadata": {
  "interpreter": {
   "hash": "0cede72f777f2cb818dab0d0127d627eabb9a101d7ae82599d1c0ad28329a85e"
  },
  "kernelspec": {
   "display_name": "Python 3.9.10 64-bit (windows store)",
   "language": "python",
   "name": "python3"
  },
  "language_info": {
   "codemirror_mode": {
    "name": "ipython",
    "version": 3
   },
   "file_extension": ".py",
   "mimetype": "text/x-python",
   "name": "python",
   "nbconvert_exporter": "python",
   "pygments_lexer": "ipython3",
   "version": "3.9.10"
  },
  "orig_nbformat": 4
 },
 "nbformat": 4,
 "nbformat_minor": 2
}
